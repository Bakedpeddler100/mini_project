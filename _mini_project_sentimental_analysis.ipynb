{
  "nbformat": 4,
  "nbformat_minor": 0,
  "metadata": {
    "colab": {
      "name": "_mini_project_sentimental_analysis.ipynb",
      "provenance": [],
      "authorship_tag": "ABX9TyP0nRtadGjblfPlKGo8s/FQ",
      "include_colab_link": true
    },
    "kernelspec": {
      "name": "python3",
      "display_name": "Python 3"
    }
  },
  "cells": [
    {
      "cell_type": "markdown",
      "metadata": {
        "id": "view-in-github",
        "colab_type": "text"
      },
      "source": [
        "<a href=\"https://colab.research.google.com/github/Bakedpeddler100/mini_project/blob/main/_mini_project_sentimental_analysis.ipynb\" target=\"_parent\"><img src=\"https://colab.research.google.com/assets/colab-badge.svg\" alt=\"Open In Colab\"/></a>"
      ]
    },
    {
      "cell_type": "code",
      "metadata": {
        "id": "sH9QUObwFEOE",
        "outputId": "4f6a2f9c-010e-4df8-c5ab-a3ed067f7767",
        "colab": {
          "base_uri": "https://localhost:8080/",
          "height": 373
        }
      },
      "source": [
        "#Training data(Text)-->Pre-process it to make ML to understand it-->ML Model-->Provide it a new test data-->Prediction\n",
        "#.py is open source having numerous libraries\n",
        "#below is the csv file from the review data from kaggle\n",
        "!wget \"https://www.dropbox.com/s/c6lmwqz67kpdsiq/review_dataset.csv\" #request to get the file through URL"
      ],
      "execution_count": 43,
      "outputs": [
        {
          "output_type": "stream",
          "text": [
            "--2020-10-11 06:50:51--  https://www.dropbox.com/s/c6lmwqz67kpdsiq/review_dataset.csv\n",
            "Resolving www.dropbox.com (www.dropbox.com)... 162.125.1.1, 2620:100:6016:1::a27d:101\n",
            "Connecting to www.dropbox.com (www.dropbox.com)|162.125.1.1|:443... connected.\n",
            "HTTP request sent, awaiting response... 301 Moved Permanently\n",
            "Location: /s/raw/c6lmwqz67kpdsiq/review_dataset.csv [following]\n",
            "--2020-10-11 06:50:52--  https://www.dropbox.com/s/raw/c6lmwqz67kpdsiq/review_dataset.csv\n",
            "Reusing existing connection to www.dropbox.com:443.\n",
            "HTTP request sent, awaiting response... 302 Found\n",
            "Location: https://uc6bac915ac1f84539eee5f1e665.dl.dropboxusercontent.com/cd/0/inline/BBDbqtsBEsRizV72vC9E-XsvsIXx2N9s84ixdF4369FpwxZJZ9_Dy9eOMUAZIrP1Gqsntex-zVA-_TGaCejQcXPrmyC7hnSty5aP1pDv5EcC7kB8_AoWBPrDmZnYIK2IOaM/file# [following]\n",
            "--2020-10-11 06:50:55--  https://uc6bac915ac1f84539eee5f1e665.dl.dropboxusercontent.com/cd/0/inline/BBDbqtsBEsRizV72vC9E-XsvsIXx2N9s84ixdF4369FpwxZJZ9_Dy9eOMUAZIrP1Gqsntex-zVA-_TGaCejQcXPrmyC7hnSty5aP1pDv5EcC7kB8_AoWBPrDmZnYIK2IOaM/file\n",
            "Resolving uc6bac915ac1f84539eee5f1e665.dl.dropboxusercontent.com (uc6bac915ac1f84539eee5f1e665.dl.dropboxusercontent.com)... 162.125.1.15, 2620:100:6016:15::a27d:10f\n",
            "Connecting to uc6bac915ac1f84539eee5f1e665.dl.dropboxusercontent.com (uc6bac915ac1f84539eee5f1e665.dl.dropboxusercontent.com)|162.125.1.15|:443... connected.\n",
            "HTTP request sent, awaiting response... 200 OK\n",
            "Length: 26332150 (25M) [text/plain]\n",
            "Saving to: ‘review_dataset.csv.3’\n",
            "\n",
            "review_dataset.csv. 100%[===================>]  25.11M  70.3MB/s    in 0.4s    \n",
            "\n",
            "2020-10-11 06:50:56 (70.3 MB/s) - ‘review_dataset.csv.3’ saved [26332150/26332150]\n",
            "\n"
          ],
          "name": "stdout"
        }
      ]
    },
    {
      "cell_type": "code",
      "metadata": {
        "id": "bDB04Wj3HD1X",
        "outputId": "23fed831-079b-411f-82f0-4669fb3be9eb",
        "colab": {
          "base_uri": "https://localhost:8080/",
          "height": 402
        }
      },
      "source": [
        "import pandas as pd \n",
        "import numpy as np\n",
        "df = pd.read_csv(\"review_dataset.csv\")\n",
        "df #data_frame and the given dataset is labelled data i.e., pos neg reviews"
      ],
      "execution_count": 44,
      "outputs": [
        {
          "output_type": "execute_result",
          "data": {
            "text/html": [
              "<div>\n",
              "<style scoped>\n",
              "    .dataframe tbody tr th:only-of-type {\n",
              "        vertical-align: middle;\n",
              "    }\n",
              "\n",
              "    .dataframe tbody tr th {\n",
              "        vertical-align: top;\n",
              "    }\n",
              "\n",
              "    .dataframe thead th {\n",
              "        text-align: right;\n",
              "    }\n",
              "</style>\n",
              "<table border=\"1\" class=\"dataframe\">\n",
              "  <thead>\n",
              "    <tr style=\"text-align: right;\">\n",
              "      <th></th>\n",
              "      <th>review</th>\n",
              "      <th>label</th>\n",
              "    </tr>\n",
              "  </thead>\n",
              "  <tbody>\n",
              "    <tr>\n",
              "      <th>0</th>\n",
              "      <td>The Buddy Holly Story opens on a shot of a yel...</td>\n",
              "      <td>pos</td>\n",
              "    </tr>\n",
              "    <tr>\n",
              "      <th>1</th>\n",
              "      <td>***SPOILERS*** Like some evil Tinkers-to-Evers...</td>\n",
              "      <td>neg</td>\n",
              "    </tr>\n",
              "    <tr>\n",
              "      <th>2</th>\n",
              "      <td>Ghost of Dragstrip Hollow is a typical 1950's ...</td>\n",
              "      <td>neg</td>\n",
              "    </tr>\n",
              "    <tr>\n",
              "      <th>3</th>\n",
              "      <td>Whatever you do, don't stop watching when you ...</td>\n",
              "      <td>pos</td>\n",
              "    </tr>\n",
              "    <tr>\n",
              "      <th>4</th>\n",
              "      <td>This is one of those movies you think that the...</td>\n",
              "      <td>neg</td>\n",
              "    </tr>\n",
              "    <tr>\n",
              "      <th>...</th>\n",
              "      <td>...</td>\n",
              "      <td>...</td>\n",
              "    </tr>\n",
              "    <tr>\n",
              "      <th>19995</th>\n",
              "      <td>O boy, was this really bad.&lt;br /&gt;&lt;br /&gt;I saw t...</td>\n",
              "      <td>neg</td>\n",
              "    </tr>\n",
              "    <tr>\n",
              "      <th>19996</th>\n",
              "      <td>Larry Fessenden has been thrashed by most of t...</td>\n",
              "      <td>pos</td>\n",
              "    </tr>\n",
              "    <tr>\n",
              "      <th>19997</th>\n",
              "      <td>This may or may not be the worst movie that St...</td>\n",
              "      <td>neg</td>\n",
              "    </tr>\n",
              "    <tr>\n",
              "      <th>19998</th>\n",
              "      <td>I have no idea what these people were thinking...</td>\n",
              "      <td>neg</td>\n",
              "    </tr>\n",
              "    <tr>\n",
              "      <th>19999</th>\n",
              "      <td>\"The Groove Tube\" was initially shown on video...</td>\n",
              "      <td>pos</td>\n",
              "    </tr>\n",
              "  </tbody>\n",
              "</table>\n",
              "<p>20000 rows × 2 columns</p>\n",
              "</div>"
            ],
            "text/plain": [
              "                                                  review label\n",
              "0      The Buddy Holly Story opens on a shot of a yel...   pos\n",
              "1      ***SPOILERS*** Like some evil Tinkers-to-Evers...   neg\n",
              "2      Ghost of Dragstrip Hollow is a typical 1950's ...   neg\n",
              "3      Whatever you do, don't stop watching when you ...   pos\n",
              "4      This is one of those movies you think that the...   neg\n",
              "...                                                  ...   ...\n",
              "19995  O boy, was this really bad.<br /><br />I saw t...   neg\n",
              "19996  Larry Fessenden has been thrashed by most of t...   pos\n",
              "19997  This may or may not be the worst movie that St...   neg\n",
              "19998  I have no idea what these people were thinking...   neg\n",
              "19999  \"The Groove Tube\" was initially shown on video...   pos\n",
              "\n",
              "[20000 rows x 2 columns]"
            ]
          },
          "metadata": {
            "tags": []
          },
          "execution_count": 44
        }
      ]
    },
    {
      "cell_type": "code",
      "metadata": {
        "id": "cwtnUT7FIPHN",
        "outputId": "b778027d-6a81-42e8-bbbb-664920772a16",
        "colab": {
          "base_uri": "https://localhost:8080/",
          "height": 34
        }
      },
      "source": [
        "df.shape"
      ],
      "execution_count": 45,
      "outputs": [
        {
          "output_type": "execute_result",
          "data": {
            "text/plain": [
              "(20000, 2)"
            ]
          },
          "metadata": {
            "tags": []
          },
          "execution_count": 45
        }
      ]
    },
    {
      "cell_type": "code",
      "metadata": {
        "id": "j4t9ssEjJBAs",
        "outputId": "584c90ff-dd4b-4e3f-c1b3-584475209d79",
        "colab": {
          "base_uri": "https://localhost:8080/",
          "height": 218
        }
      },
      "source": [
        "df['label'] #[0:20] for starting 20 lables"
      ],
      "execution_count": 46,
      "outputs": [
        {
          "output_type": "execute_result",
          "data": {
            "text/plain": [
              "0        pos\n",
              "1        neg\n",
              "2        neg\n",
              "3        pos\n",
              "4        neg\n",
              "        ... \n",
              "19995    neg\n",
              "19996    pos\n",
              "19997    neg\n",
              "19998    neg\n",
              "19999    pos\n",
              "Name: label, Length: 20000, dtype: object"
            ]
          },
          "metadata": {
            "tags": []
          },
          "execution_count": 46
        }
      ]
    },
    {
      "cell_type": "code",
      "metadata": {
        "id": "wWy1qe67JGXK",
        "outputId": "80012bf2-7048-4c69-a523-8709323ba6c7",
        "colab": {
          "base_uri": "https://localhost:8080/",
          "height": 218
        }
      },
      "source": [
        "df['review'] #[0] to get the first review"
      ],
      "execution_count": 47,
      "outputs": [
        {
          "output_type": "execute_result",
          "data": {
            "text/plain": [
              "0        The Buddy Holly Story opens on a shot of a yel...\n",
              "1        ***SPOILERS*** Like some evil Tinkers-to-Evers...\n",
              "2        Ghost of Dragstrip Hollow is a typical 1950's ...\n",
              "3        Whatever you do, don't stop watching when you ...\n",
              "4        This is one of those movies you think that the...\n",
              "                               ...                        \n",
              "19995    O boy, was this really bad.<br /><br />I saw t...\n",
              "19996    Larry Fessenden has been thrashed by most of t...\n",
              "19997    This may or may not be the worst movie that St...\n",
              "19998    I have no idea what these people were thinking...\n",
              "19999    \"The Groove Tube\" was initially shown on video...\n",
              "Name: review, Length: 20000, dtype: object"
            ]
          },
          "metadata": {
            "tags": []
          },
          "execution_count": 47
        }
      ]
    },
    {
      "cell_type": "code",
      "metadata": {
        "id": "QUN90_rvJVDq",
        "outputId": "cde297e0-a496-4452-91f4-9a5388b36835",
        "colab": {
          "base_uri": "https://localhost:8080/",
          "height": 120
        }
      },
      "source": [
        "df['review'][0] #dataset need to be tidy"
      ],
      "execution_count": 48,
      "outputs": [
        {
          "output_type": "execute_result",
          "data": {
            "application/vnd.google.colaboratory.intrinsic+json": {
              "type": "string"
            },
            "text/plain": [
              "'The Buddy Holly Story opens on a shot of a yellow neon moon on the roof of a roller rink in 1956 Lubbock, Texas. As the credits start, the camera moves down from the moon to the parking lot, into the roller rink, past the concessions and across the rink to a small bandstand where a small band is doing their sound check. It\\'s a tracking shot Welles and Scorcese would both appreciate. It cuts to Buddy Holly\\'s bespectacled face peering down in rapt concentration as he grips the headphones and talks to a man putting this band on the radio. <br /><br />A young Gary Busey plays Buddy Holly and his performance is key. He has to somehow show the passion that Holly had for his music to make the film work. This is a rock and roll story without lines of coke chased with shots of heroin and a fifth of whiskey. This isn\\'t about a man with several women to choose between in a sex scandalized, brood abandoned lusty tragedy. This is a film about a nice Texas boy who respected his parents and went to church and had the same girlfriend for 5 years and fell in love with rock and roll. Busey finds that spark and ignites it, his passion is clear and infectious. He really plays the guitar in the film and sings, its not overdubbed with Holly\\'s recordings. Busey was a young guy in Hollywood in the seventies, a struggling actor and as much or more so a struggling rock musician as well. Thus, he gives a great performance, because although he isn\\'t Buddy Holly, he\\'s in a similar situation. <br /><br />His first song is the old Les Paul classic, \"Mockingbird Hill\" and he has the country twang to nail it. Next a kid calls out for some bop, and against his two band mates (in reality the Crickets were 3 guys, but the down-sizing works fine for the film\\'s limited narrative)he leads them wailing into \"Rocking with Ollie Vee\". The kids love it and the parents hate it. The DJ at the rolling rink tapes it and it is later released in New York without Buddy Holly even knowing it was ever recorded. This leads to the funniest scene in a film filled with humorous moments. An amped-up disc jockey from Buffalo calls up Buddy at home. The DJ has been playing \"That\\'ll be the Day\" for 12 hours and is going for 24. The cops are banging on the station\\'s barricaded door. Holly is confused, but when the dust settles, he is quite thrilled. He tells the boys, and their meteoric rise begins. Dan Stroud as the drummer and Charles Martin Smith as the bassist round out the band nicely and have good chemistry with each other. There are problems but not overblown drama thats found in most rock (all?) biopics. The movie doesn\\'t manipulate you either. Your emotions soar, but they\\'re not manipulated. When the Crickets step onto the Apollo stage in Harlem, the first white group ever to play there, then rip into an electrically charged performance of \"Oh Boy\" and win the audience over, my rock and roll loving ass got choked up and cried. Next, Busey and the boys make \"It\\'s so Easy\" sound funkier and more soulful than I would have believed possible. <br /><br />Anyone with even a cursory knowledge of Buddy Holly\\'s story will know where this movie will end. Holly died in a plane crash with Richie Valens and the Big Bopper way too young. We, as the audience know that, yet the movie is so well written, directed and lovingly acted that we forget it almost immediately. The movie isn\\'t about his death, it\\'s about his life and his place in rock and roll history. The film ends with his last performance and it\\'s a good fifteen minutes of Busey rocking out possessed by the ghost of Buddy Holly. I was happy to hear him end it on \"Not Fade Away\", my favorite of his songs. The film freezes before the end credits with the information about the plane crash, but I hardly noticed it. I was still thinking about how good that last song was.'"
            ]
          },
          "metadata": {
            "tags": []
          },
          "execution_count": 48
        }
      ]
    },
    {
      "cell_type": "code",
      "metadata": {
        "id": "CtZyxDF4KDjC",
        "outputId": "948255fc-8244-4b2f-ae02-2e82d34a0bf3",
        "colab": {
          "base_uri": "https://localhost:8080/",
          "height": 120
        }
      },
      "source": [
        "df['review'][1]"
      ],
      "execution_count": 49,
      "outputs": [
        {
          "output_type": "execute_result",
          "data": {
            "application/vnd.google.colaboratory.intrinsic+json": {
              "type": "string"
            },
            "text/plain": [
              "'***SPOILERS*** Like some evil Tinkers-to-Evers-to-Chance double-play combination we have in \"Omen IV\" the evil seed of the deceased AntiChrist Damien Thorn come back. Terrorizing his parents his schoolmates his neighbors and finally the entire world as a she named Delia York, Asia Vieila. After being given to a \"deserving\" couple the Yorks Karen & Gene, Fay Grant & Michael Woods,by the Catholic Church\\'s St. Francis orphanage.<br /><br />Little Delia didn\\'t waste any time making her peasants felt by scratching her mom at a house party. Later Delia almost get killed by a runaway truck only to have herself saved by this \"Devil Dog\" named Ryder. Going to school Delia takes care of the local bully by getting the big guy to wet himself in front of all his classmates. Later when his father threatens the Yorks with a law suit she has his head sliced off in a self-induced traffic accident! Delia is someone that you never mess with if you know what\\'s good for you.<br /><br />Meanwhile Dalia\\'s dad Gene becomes a big man in town on his own, or so he thinks, by getting elected to the congress as a champion of the clean air and green trees crowd instead of letting the smog and concrete boys take over the neighborhood with his eye now on he White House itself! Did his bratty and strange daughter Delia have anything to do with Gene York\\'s sudden good fortune?<br /><br />It\\'s only later when Jo, Ann Hearen, is hired as Delia\\'s nanny that the truth\\'s comes out about her strange and evil powers. Jo a New Age type realizes that Delia is a bit weird, after turning all her white crystals black, and calls her New Age Guru Noah, Jim Byrnes, to come over and check her out. Noah is so upset by what he sees in Delia Kirilian color vibrations ,all black and blue with a little pinch of red, that it flips him out so bad that he almost crashed into Delia\\'s moms car.<br /><br />Taken on a trip to a psychic festival by Jo Delia turns the entire event into an inferno setting the place, through mental telepathy, on fire and heaving everyone there run for cover including poor Noah who was at the festival and ended up with his leg broken. The and shaken and battered Guru was so shook up by the whole experience that he later checked out of the country to become a hermit in the Tibetan wilderness. <br /><br />Jo herself is later thrown out, with the help of the sweet and cuddly family pet Ryder, of a second floor window to her death because she knew and talked too much. It\\'s when Karen is again pregnant that she decides, finally, to find out the truth about the real parents of Delia. That\\'s when she,and we in the audience, come face to face with the truth. She\\'s not only the feared AntiChrist of Revelations she\\'s his twin sister! Her brother the AntiChrist himself is about to come on the scene as her kid brother the sill unborn Alexander York!<br /><br />Three times were more then enough for the AntiChrist coming back to earth to bring about Armageddon. The movie going public were already getting a little tired of of him and his evil adventures. With a fourth really not necessary since Daimen Thorn, the original AntiChrist, had been dead and buried for years. Were put through the usual ringer with no one believing that little Delia is \"Thee\" AntiChrist until it was almost too late to stop her in her deadly rounds of destroying the entire human race. The movie as bad as it is is also far too long, 97 minutes, for a horror flick that could well have told it\\'s story is as little as 80 minutes.<br /><br />Having a private eye Earl Knight, Mchael Learner,and later a former Catholic nun sister Yvonne,Megan Lehch,and now faith healer Felichy in the film only to be killed off didn\\'t help the plot either. It only prolonged the suffering of those of us watching the movie. You could see the surprise ending coming almost as soon as the film \"Omen IV\" began with the bases being cleared for Delia\\'s eventual takeover of the civilized as well as uncivilized world. What was a bit of a surprise was Delia doing it with a little help from friends.'"
            ]
          },
          "metadata": {
            "tags": []
          },
          "execution_count": 49
        }
      ]
    },
    {
      "cell_type": "code",
      "metadata": {
        "id": "EI2EuHJBKLN4",
        "outputId": "a03e27c6-fed6-45e2-cfa9-81700d4f6ef1",
        "colab": {
          "base_uri": "https://localhost:8080/",
          "height": 87
        }
      },
      "source": [
        "#to clean up the data, we are going to use <nltk> library\n",
        "import re #regular expression library\n",
        "import nltk #to filter out the given dataset\n",
        "from nltk.corpus import stopwords #stopwords are the irrelevant words like with,the,etc\n",
        "#corpus is a sub-package inside nltk\n",
        "\n",
        "nltk.download('stopwords')\n",
        "\n",
        "sw = stopwords.words('english') #natural language \n",
        "print(sw)"
      ],
      "execution_count": 50,
      "outputs": [
        {
          "output_type": "stream",
          "text": [
            "[nltk_data] Downloading package stopwords to /root/nltk_data...\n",
            "[nltk_data]   Package stopwords is already up-to-date!\n",
            "['i', 'me', 'my', 'myself', 'we', 'our', 'ours', 'ourselves', 'you', \"you're\", \"you've\", \"you'll\", \"you'd\", 'your', 'yours', 'yourself', 'yourselves', 'he', 'him', 'his', 'himself', 'she', \"she's\", 'her', 'hers', 'herself', 'it', \"it's\", 'its', 'itself', 'they', 'them', 'their', 'theirs', 'themselves', 'what', 'which', 'who', 'whom', 'this', 'that', \"that'll\", 'these', 'those', 'am', 'is', 'are', 'was', 'were', 'be', 'been', 'being', 'have', 'has', 'had', 'having', 'do', 'does', 'did', 'doing', 'a', 'an', 'the', 'and', 'but', 'if', 'or', 'because', 'as', 'until', 'while', 'of', 'at', 'by', 'for', 'with', 'about', 'against', 'between', 'into', 'through', 'during', 'before', 'after', 'above', 'below', 'to', 'from', 'up', 'down', 'in', 'out', 'on', 'off', 'over', 'under', 'again', 'further', 'then', 'once', 'here', 'there', 'when', 'where', 'why', 'how', 'all', 'any', 'both', 'each', 'few', 'more', 'most', 'other', 'some', 'such', 'no', 'nor', 'not', 'only', 'own', 'same', 'so', 'than', 'too', 'very', 's', 't', 'can', 'will', 'just', 'don', \"don't\", 'should', \"should've\", 'now', 'd', 'll', 'm', 'o', 're', 've', 'y', 'ain', 'aren', \"aren't\", 'couldn', \"couldn't\", 'didn', \"didn't\", 'doesn', \"doesn't\", 'hadn', \"hadn't\", 'hasn', \"hasn't\", 'haven', \"haven't\", 'isn', \"isn't\", 'ma', 'mightn', \"mightn't\", 'mustn', \"mustn't\", 'needn', \"needn't\", 'shan', \"shan't\", 'shouldn', \"shouldn't\", 'wasn', \"wasn't\", 'weren', \"weren't\", 'won', \"won't\", 'wouldn', \"wouldn't\"]\n"
          ],
          "name": "stdout"
        }
      ]
    },
    {
      "cell_type": "code",
      "metadata": {
        "id": "Dup4ge1CLvzr"
      },
      "source": [
        "def clean_text(sample):\n",
        "  sample = sample.lower()\n",
        "  sample = sample.replace(\"<br /><br />\",\"\")\n",
        "  sample = re.sub(\"[^a-z]+\", \" \", sample)\n",
        "  sample = sample.split(\" \")\n",
        "\n",
        "  sample = [word for word in sample if word not in sw] #it will skip the stopwords and known as list-comprehension\n",
        " \n",
        "  sample = \" \".join(sample)\n",
        "  \n",
        "  return sample"
      ],
      "execution_count": 51,
      "outputs": []
    },
    {
      "cell_type": "code",
      "metadata": {
        "id": "no7saKNoM-2h",
        "outputId": "ae0a7864-d017-45a0-f78d-1e4c9181c324",
        "colab": {
          "base_uri": "https://localhost:8080/",
          "height": 120
        }
      },
      "source": [
        "clean_text(df['review'][1])"
      ],
      "execution_count": 52,
      "outputs": [
        {
          "output_type": "execute_result",
          "data": {
            "application/vnd.google.colaboratory.intrinsic+json": {
              "type": "string"
            },
            "text/plain": [
              "' spoilers like evil tinkers evers chance double play combination omen iv evil seed deceased antichrist damien thorn come back terrorizing parents schoolmates neighbors finally entire world named delia york asia vieila given deserving couple yorks karen gene fay grant michael woods catholic church st francis orphanage little delia waste time making peasants felt scratching mom house party later delia almost get killed runaway truck saved devil dog named ryder going school delia takes care local bully getting big guy wet front classmates later father threatens yorks law suit head sliced self induced traffic accident delia someone never mess know good meanwhile dalia dad gene becomes big man town thinks getting elected congress champion clean air green trees crowd instead letting smog concrete boys take neighborhood eye white house bratty strange daughter delia anything gene york sudden good fortune later jo ann hearen hired delia nanny truth comes strange evil powers jo new age type realizes delia bit weird turning white crystals black calls new age guru noah jim byrnes come check noah upset sees delia kirilian color vibrations black blue little pinch red flips bad almost crashed delia moms car taken trip psychic festival jo delia turns entire event inferno setting place mental telepathy fire heaving everyone run cover including poor noah festival ended leg broken shaken battered guru shook whole experience later checked country become hermit tibetan wilderness jo later thrown help sweet cuddly family pet ryder second floor window death knew talked much karen pregnant decides finally find truth real parents delia audience come face face truth feared antichrist revelations twin sister brother antichrist come scene kid brother sill unborn alexander york three times enough antichrist coming back earth bring armageddon movie going public already getting little tired evil adventures fourth really necessary since daimen thorn original antichrist dead buried years put usual ringer one believing little delia thee antichrist almost late stop deadly rounds destroying entire human race movie bad also far long minutes horror flick could well told story little minutes private eye earl knight mchael learner later former catholic nun sister yvonne megan lehch faith healer felichy film killed help plot either prolonged suffering us watching movie could see surprise ending coming almost soon film omen iv began bases cleared delia eventual takeover civilized well uncivilized world bit surprise delia little help friends '"
            ]
          },
          "metadata": {
            "tags": []
          },
          "execution_count": 52
        }
      ]
    },
    {
      "cell_type": "code",
      "metadata": {
        "id": "Yv1hGzufNQ2s",
        "outputId": "5de06590-9523-42f3-c4a7-80385506a25a",
        "colab": {
          "base_uri": "https://localhost:8080/",
          "height": 402
        }
      },
      "source": [
        "df['review'] = df['review'].apply(clean_text) #easier without using for loop\n",
        "df"
      ],
      "execution_count": 53,
      "outputs": [
        {
          "output_type": "execute_result",
          "data": {
            "text/html": [
              "<div>\n",
              "<style scoped>\n",
              "    .dataframe tbody tr th:only-of-type {\n",
              "        vertical-align: middle;\n",
              "    }\n",
              "\n",
              "    .dataframe tbody tr th {\n",
              "        vertical-align: top;\n",
              "    }\n",
              "\n",
              "    .dataframe thead th {\n",
              "        text-align: right;\n",
              "    }\n",
              "</style>\n",
              "<table border=\"1\" class=\"dataframe\">\n",
              "  <thead>\n",
              "    <tr style=\"text-align: right;\">\n",
              "      <th></th>\n",
              "      <th>review</th>\n",
              "      <th>label</th>\n",
              "    </tr>\n",
              "  </thead>\n",
              "  <tbody>\n",
              "    <tr>\n",
              "      <th>0</th>\n",
              "      <td>buddy holly story opens shot yellow neon moon ...</td>\n",
              "      <td>pos</td>\n",
              "    </tr>\n",
              "    <tr>\n",
              "      <th>1</th>\n",
              "      <td>spoilers like evil tinkers evers chance doubl...</td>\n",
              "      <td>neg</td>\n",
              "    </tr>\n",
              "    <tr>\n",
              "      <th>2</th>\n",
              "      <td>ghost dragstrip hollow typical teens turmoil m...</td>\n",
              "      <td>neg</td>\n",
              "    </tr>\n",
              "    <tr>\n",
              "      <th>3</th>\n",
              "      <td>whatever stop watching think movie hang around...</td>\n",
              "      <td>pos</td>\n",
              "    </tr>\n",
              "    <tr>\n",
              "      <th>4</th>\n",
              "      <td>one movies think makers would refuse release t...</td>\n",
              "      <td>neg</td>\n",
              "    </tr>\n",
              "    <tr>\n",
              "      <th>...</th>\n",
              "      <td>...</td>\n",
              "      <td>...</td>\n",
              "    </tr>\n",
              "    <tr>\n",
              "      <th>19995</th>\n",
              "      <td>boy really bad saw videotape scenes soundtrack...</td>\n",
              "      <td>neg</td>\n",
              "    </tr>\n",
              "    <tr>\n",
              "      <th>19996</th>\n",
              "      <td>larry fessenden thrashed comments forum well w...</td>\n",
              "      <td>pos</td>\n",
              "    </tr>\n",
              "    <tr>\n",
              "      <th>19997</th>\n",
              "      <td>may may worst movie steve martin ever made cer...</td>\n",
              "      <td>neg</td>\n",
              "    </tr>\n",
              "    <tr>\n",
              "      <th>19998</th>\n",
              "      <td>idea people thinking made film plot limited ac...</td>\n",
              "      <td>neg</td>\n",
              "    </tr>\n",
              "    <tr>\n",
              "      <th>19999</th>\n",
              "      <td>groove tube initially shown video first video...</td>\n",
              "      <td>pos</td>\n",
              "    </tr>\n",
              "  </tbody>\n",
              "</table>\n",
              "<p>20000 rows × 2 columns</p>\n",
              "</div>"
            ],
            "text/plain": [
              "                                                  review label\n",
              "0      buddy holly story opens shot yellow neon moon ...   pos\n",
              "1       spoilers like evil tinkers evers chance doubl...   neg\n",
              "2      ghost dragstrip hollow typical teens turmoil m...   neg\n",
              "3      whatever stop watching think movie hang around...   pos\n",
              "4      one movies think makers would refuse release t...   neg\n",
              "...                                                  ...   ...\n",
              "19995  boy really bad saw videotape scenes soundtrack...   neg\n",
              "19996  larry fessenden thrashed comments forum well w...   pos\n",
              "19997  may may worst movie steve martin ever made cer...   neg\n",
              "19998  idea people thinking made film plot limited ac...   neg\n",
              "19999   groove tube initially shown video first video...   pos\n",
              "\n",
              "[20000 rows x 2 columns]"
            ]
          },
          "metadata": {
            "tags": []
          },
          "execution_count": 53
        }
      ]
    },
    {
      "cell_type": "code",
      "metadata": {
        "id": "y0GyqVmCPjT0"
      },
      "source": [
        "#we converted the whole data into numbers, input is reviews and output is labels\n",
        "# x-->input\n",
        "# y--> output\n",
        "x = df['review'].values\n",
        "y = df['label'].values\n",
        "\n",
        "#dividing the data into training and testing part and here ratio is poop:poop \n",
        "x_train = x[0:15000]      # taking data for training\n",
        "x_test = x[15000:20000]   # for testing the data set\n",
        "\n",
        "y_train = y[0:15000]\n",
        "y_test = y[15000:20000]"
      ],
      "execution_count": 54,
      "outputs": []
    },
    {
      "cell_type": "code",
      "metadata": {
        "id": "VdXWTW_MNdFd",
        "outputId": "a00d35dd-d799-4602-b19b-568441d18f5f",
        "colab": {
          "base_uri": "https://localhost:8080/",
          "height": 34
        }
      },
      "source": [
        "y_train #computer can't understand this pos,neg.So, we need to convert it into binary form that is pos=1 and neg=0."
      ],
      "execution_count": 55,
      "outputs": [
        {
          "output_type": "execute_result",
          "data": {
            "text/plain": [
              "array(['pos', 'neg', 'neg', ..., 'pos', 'pos', 'pos'], dtype=object)"
            ]
          },
          "metadata": {
            "tags": []
          },
          "execution_count": 55
        }
      ]
    },
    {
      "cell_type": "code",
      "metadata": {
        "id": "Sh-09YJSQvON",
        "outputId": "cfd50d55-f70e-4302-af17-d4880db67d37",
        "colab": {
          "base_uri": "https://localhost:8080/",
          "height": 34
        }
      },
      "source": [
        "#another library to convert pos/neg into 1/0\n",
        "from sklearn.preprocessing import LabelEncoder\n",
        "\n",
        "le = LabelEncoder() # creating an object to call the class<LabelEncoder>\n",
        "\n",
        "#fit: learning the mapping pos:1, neg:0\n",
        "le.fit(y_train)"
      ],
      "execution_count": 56,
      "outputs": [
        {
          "output_type": "execute_result",
          "data": {
            "text/plain": [
              "LabelEncoder()"
            ]
          },
          "metadata": {
            "tags": []
          },
          "execution_count": 56
        }
      ]
    },
    {
      "cell_type": "code",
      "metadata": {
        "id": "fLd_N35cRUmH"
      },
      "source": [
        "y_train = le.transform(y_train) #conversion\n",
        "y_test =  le.transform(y_test)"
      ],
      "execution_count": 57,
      "outputs": []
    },
    {
      "cell_type": "code",
      "metadata": {
        "id": "C1YuQwpnUwCQ",
        "outputId": "430e0ab8-1003-4965-8ed4-0b845bc3a9a8",
        "colab": {
          "base_uri": "https://localhost:8080/",
          "height": 34
        }
      },
      "source": [
        "y_train[0:10] #observe the converted training part"
      ],
      "execution_count": 58,
      "outputs": [
        {
          "output_type": "execute_result",
          "data": {
            "text/plain": [
              "array([1, 0, 0, 1, 0, 0, 1, 0, 0, 1])"
            ]
          },
          "metadata": {
            "tags": []
          },
          "execution_count": 58
        }
      ]
    },
    {
      "cell_type": "code",
      "metadata": {
        "id": "g7lAqjWlVFsd"
      },
      "source": [
        "# Bag of Word model\n",
        "# it convert sentences into numbers\n",
        "\n",
        "from sklearn.feature_extraction.text import CountVectorizer\n",
        "#create object for ease\n",
        "\n",
        "cv = CountVectorizer(max_features = 10000)"
      ],
      "execution_count": 59,
      "outputs": []
    },
    {
      "cell_type": "code",
      "metadata": {
        "id": "AEexE_jhV6pC",
        "outputId": "d99b026d-2fbc-44c6-fe26-a8574467a7b3",
        "colab": {
          "base_uri": "https://localhost:8080/",
          "height": 118
        }
      },
      "source": [
        "cv.fit(x_train)"
      ],
      "execution_count": 60,
      "outputs": [
        {
          "output_type": "execute_result",
          "data": {
            "text/plain": [
              "CountVectorizer(analyzer='word', binary=False, decode_error='strict',\n",
              "                dtype=<class 'numpy.int64'>, encoding='utf-8', input='content',\n",
              "                lowercase=True, max_df=1.0, max_features=10000, min_df=1,\n",
              "                ngram_range=(1, 1), preprocessor=None, stop_words=None,\n",
              "                strip_accents=None, token_pattern='(?u)\\\\b\\\\w\\\\w+\\\\b',\n",
              "                tokenizer=None, vocabulary=None)"
            ]
          },
          "metadata": {
            "tags": []
          },
          "execution_count": 60
        }
      ]
    },
    {
      "cell_type": "code",
      "metadata": {
        "id": "p1hl46dxV_8O",
        "outputId": "482c9f09-5698-4779-b7df-a80617f69446",
        "colab": {
          "base_uri": "https://localhost:8080/",
          "height": 50
        }
      },
      "source": [
        "cv.transform(x_train)\n",
        "#it says that there are 15k of rows and 61533 are number of features\n",
        "# next step is to convert sparse matrix into dense matrix "
      ],
      "execution_count": 61,
      "outputs": [
        {
          "output_type": "execute_result",
          "data": {
            "text/plain": [
              "<15000x10000 sparse matrix of type '<class 'numpy.int64'>'\n",
              "\twith 1293191 stored elements in Compressed Sparse Row format>"
            ]
          },
          "metadata": {
            "tags": []
          },
          "execution_count": 61
        }
      ]
    },
    {
      "cell_type": "code",
      "metadata": {
        "id": "eO_6R_X_WyYz"
      },
      "source": [
        "x_train = cv.transform(x_train).toarray() \n",
        "#it's consuming lot's of space so we will set the features value in CountVectorizer function or we can remove .toarray() RAM won't exceed\n",
        "#x_train is converted into numbers basically it's converted into 2-D matrix"
      ],
      "execution_count": 62,
      "outputs": []
    },
    {
      "cell_type": "code",
      "metadata": {
        "id": "w96alMMDYwq8",
        "outputId": "97137535-4117-40da-fbac-a374017044e8",
        "colab": {
          "base_uri": "https://localhost:8080/",
          "height": 34
        }
      },
      "source": [
        "x_train.shape"
      ],
      "execution_count": 63,
      "outputs": [
        {
          "output_type": "execute_result",
          "data": {
            "text/plain": [
              "(15000, 10000)"
            ]
          },
          "metadata": {
            "tags": []
          },
          "execution_count": 63
        }
      ]
    },
    {
      "cell_type": "code",
      "metadata": {
        "id": "ZEitqqp2Y-19"
      },
      "source": [
        "x_test = cv.transform(x_test).toarray()"
      ],
      "execution_count": 64,
      "outputs": []
    },
    {
      "cell_type": "code",
      "metadata": {
        "id": "EZItIWlLZE5T",
        "outputId": "f5631cd4-b50e-4ea4-82c9-8bef0a84b5ff",
        "colab": {
          "base_uri": "https://localhost:8080/",
          "height": 34
        }
      },
      "source": [
        "x_test.shape #now we can train our model"
      ],
      "execution_count": 65,
      "outputs": [
        {
          "output_type": "execute_result",
          "data": {
            "text/plain": [
              "(5000, 10000)"
            ]
          },
          "metadata": {
            "tags": []
          },
          "execution_count": 65
        }
      ]
    },
    {
      "cell_type": "markdown",
      "metadata": {
        "id": "4QV-bH-0Thhy"
      },
      "source": [
        "# **Model Training**"
      ]
    },
    {
      "cell_type": "code",
      "metadata": {
        "id": "GNivZYw7Tubv"
      },
      "source": [
        "from sklearn.naive_bayes import MultinomialNB \n",
        "\n",
        "mnb = MultinomialNB()"
      ],
      "execution_count": 66,
      "outputs": []
    },
    {
      "cell_type": "code",
      "metadata": {
        "id": "o7xBsJV-UCkm",
        "outputId": "f0168ada-8f4e-49d8-a6cd-c38221e3c654",
        "colab": {
          "base_uri": "https://localhost:8080/",
          "height": 34
        }
      },
      "source": [
        "#training part\n",
        "mnb.fit(x_train,y_train)"
      ],
      "execution_count": 67,
      "outputs": [
        {
          "output_type": "execute_result",
          "data": {
            "text/plain": [
              "MultinomialNB(alpha=1.0, class_prior=None, fit_prior=True)"
            ]
          },
          "metadata": {
            "tags": []
          },
          "execution_count": 67
        }
      ]
    },
    {
      "cell_type": "code",
      "metadata": {
        "id": "fZFS9uFaZwQT",
        "outputId": "d0003fd4-8b57-4e8c-d4a2-b066002c8bcb",
        "colab": {
          "base_uri": "https://localhost:8080/",
          "height": 34
        }
      },
      "source": [
        "#predicting the model\n",
        "mnb.predict(x_test)  #mnb: model"
      ],
      "execution_count": 68,
      "outputs": [
        {
          "output_type": "execute_result",
          "data": {
            "text/plain": [
              "array([0, 0, 1, ..., 0, 0, 0])"
            ]
          },
          "metadata": {
            "tags": []
          },
          "execution_count": 68
        }
      ]
    },
    {
      "cell_type": "code",
      "metadata": {
        "id": "QdReVkXuaCIE",
        "outputId": "02f7e5fa-2efd-4a7b-c6c6-5ae4c789e0fd",
        "colab": {
          "base_uri": "https://localhost:8080/",
          "height": 34
        }
      },
      "source": [
        "#to check the accuracy of the model\n",
        "mnb.score(x_test, y_test)"
      ],
      "execution_count": 69,
      "outputs": [
        {
          "output_type": "execute_result",
          "data": {
            "text/plain": [
              "0.8416"
            ]
          },
          "metadata": {
            "tags": []
          },
          "execution_count": 69
        }
      ]
    },
    {
      "cell_type": "markdown",
      "metadata": {
        "id": "61-tUdECUSds"
      },
      "source": [
        "# **Predict for one sentence**\n"
      ]
    },
    {
      "cell_type": "code",
      "metadata": {
        "id": "8uyqBoG4UVon"
      },
      "source": [
        "my_review = \"Me is too busy, but she helps other as well in their work.\"\n",
        "my_review = clean_text(my_review) #cleaning the review"
      ],
      "execution_count": 82,
      "outputs": []
    },
    {
      "cell_type": "code",
      "metadata": {
        "id": "RVWws5WOUwF6"
      },
      "source": [
        "my_review = cv.transform([my_review]) \n",
        "#using countvectorizer we are converting words into numbers, same as we did for the above model\n",
        "# we are passing our review that we wrote in the cv.transform([])   \n",
        "# it says 1 row and 10k columns/features"
      ],
      "execution_count": 83,
      "outputs": []
    },
    {
      "cell_type": "code",
      "metadata": {
        "id": "uWeAmoTVU4Vn",
        "outputId": "85898316-7406-4de6-e60b-e304af524a1b",
        "colab": {
          "base_uri": "https://localhost:8080/",
          "height": 34
        }
      },
      "source": [
        "mnb.predict(my_review)\n",
        "# here 1 depicts that Me is so positive hooman =)"
      ],
      "execution_count": 84,
      "outputs": [
        {
          "output_type": "execute_result",
          "data": {
            "text/plain": [
              "array([1])"
            ]
          },
          "metadata": {
            "tags": []
          },
          "execution_count": 84
        }
      ]
    },
    {
      "cell_type": "code",
      "metadata": {
        "id": "tIR83u27bItD"
      },
      "source": [
        ""
      ],
      "execution_count": 72,
      "outputs": []
    }
  ]
}